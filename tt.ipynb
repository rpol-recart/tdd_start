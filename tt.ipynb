{
 "cells": [
  {
   "cell_type": "code",
   "execution_count": null,
   "metadata": {},
   "outputs": [],
   "source": [
    "class ABC():\n",
    "    def __init__(self):\n",
    "        self.workload=None\n",
    "    \n",
    "    @setattr\n",
    "    def workload(self,value):\n",
    "       self.workload=value\n",
    "    @params\n",
    "    def workload(self) :\n",
    "        return self.workload\n",
    "    \n",
    "    \n",
    "    \n",
    "    \n",
    "        "
   ]
  },
  {
   "cell_type": "code",
   "execution_count": 5,
   "metadata": {},
   "outputs": [
    {
     "data": {
      "text/plain": [
       "float"
      ]
     },
     "execution_count": 5,
     "metadata": {},
     "output_type": "execute_result"
    }
   ],
   "source": [
    "type(5.48888888888888888444448)"
   ]
  },
  {
   "cell_type": "code",
   "execution_count": 13,
   "metadata": {},
   "outputs": [
    {
     "data": {
      "text/plain": [
       "True"
      ]
     },
     "execution_count": 13,
     "metadata": {},
     "output_type": "execute_result"
    }
   ],
   "source": [
    "57 in range(*[55,58])"
   ]
  },
  {
   "cell_type": "code",
   "execution_count": 14,
   "metadata": {},
   "outputs": [
    {
     "name": "stdout",
     "output_type": "stream",
     "text": [
      "1716181200\n"
     ]
    }
   ],
   "source": [
    "from datetime import datetime\n",
    "\n",
    "# Указываем дату и время\n",
    "date_time_str = '20 May 2024 12:00'\n",
    "\n",
    "# Преобразуем строку в объект datetime\n",
    "date_time_obj = datetime.strptime(date_time_str, '%d %B %Y %H:%M')\n",
    "\n",
    "# Получаем Unix timestamp\n",
    "unix_timestamp = date_time_obj.timestamp()\n",
    "\n",
    "print(int(unix_timestamp))"
   ]
  },
  {
   "cell_type": "code",
   "execution_count": 1,
   "metadata": {},
   "outputs": [],
   "source": [
    "messg = {\n",
    "        \"gps\": {\n",
    "            \"lat1\": 55.752220000000000000,\n",
    "            \"long1\": 37.615560000000000000,\n",
    "            \"alt1\": 150.000000000000000000,\n",
    "            \"lat2\": 55.752220000000000000,\n",
    "            \"long2\": 37.615560000000000000,\n",
    "            \"alt2\": 150.000000000000000000,\n",
    "            \"utime\": 1734670800\n",
    "        }\n",
    "    }"
   ]
  },
  {
   "cell_type": "code",
   "execution_count": 2,
   "metadata": {},
   "outputs": [
    {
     "name": "stdout",
     "output_type": "stream",
     "text": [
      "lat1 55.75222\n",
      "is_float\n",
      "long1 37.61556\n",
      "is_float\n",
      "alt1 150.0\n",
      "is_float\n",
      "lat2 55.75222\n",
      "is_float\n",
      "long2 37.61556\n",
      "is_float\n",
      "alt2 150.0\n",
      "is_float\n",
      "utime 1734670800\n"
     ]
    }
   ],
   "source": [
    "from project.messaging import DetectionMessage, GpsMessage\n",
    "gps = GpsMessage()\n",
    "gps.read(messg['gps'])"
   ]
  },
  {
   "cell_type": "code",
   "execution_count": 3,
   "metadata": {},
   "outputs": [],
   "source": [
    "gps.long1"
   ]
  },
  {
   "cell_type": "code",
   "execution_count": 5,
   "metadata": {},
   "outputs": [
    {
     "name": "stdout",
     "output_type": "stream",
     "text": [
      "is_float\n"
     ]
    }
   ],
   "source": [
    "gps.lat1=55.75222789453"
   ]
  },
  {
   "cell_type": "code",
   "execution_count": 10,
   "metadata": {},
   "outputs": [
    {
     "ename": "AttributeError",
     "evalue": "'float' object has no attribute 'fset'",
     "output_type": "error",
     "traceback": [
      "\u001b[0;31m---------------------------------------------------------------------------\u001b[0m",
      "\u001b[0;31mAttributeError\u001b[0m                            Traceback (most recent call last)",
      "Cell \u001b[0;32mIn[10], line 1\u001b[0m\n\u001b[0;32m----> 1\u001b[0m \u001b[38;5;28;43mgetattr\u001b[39;49m\u001b[43m(\u001b[49m\u001b[43mgps\u001b[49m\u001b[43m,\u001b[49m\u001b[43m \u001b[49m\u001b[38;5;124;43m'\u001b[39;49m\u001b[38;5;124;43mlat1\u001b[39;49m\u001b[38;5;124;43m'\u001b[39;49m\u001b[43m)\u001b[49m\u001b[38;5;241;43m.\u001b[39;49m\u001b[43mfset\u001b[49m(\u001b[38;5;241m56.11\u001b[39m) \n",
      "\u001b[0;31mAttributeError\u001b[0m: 'float' object has no attribute 'fset'"
     ]
    }
   ],
   "source": [
    "getattr(gps, 'lat1').fset(56.11) "
   ]
  },
  {
   "cell_type": "code",
   "execution_count": 7,
   "metadata": {},
   "outputs": [],
   "source": [
    "gps.parcing_steps['lat1']=56.11"
   ]
  },
  {
   "cell_type": "code",
   "execution_count": 8,
   "metadata": {},
   "outputs": [
    {
     "data": {
      "text/plain": [
       "55.75222789453"
      ]
     },
     "execution_count": 8,
     "metadata": {},
     "output_type": "execute_result"
    }
   ],
   "source": [
    "gps.lat1"
   ]
  },
  {
   "cell_type": "code",
   "execution_count": 4,
   "metadata": {},
   "outputs": [
    {
     "data": {
      "text/plain": [
       "float"
      ]
     },
     "execution_count": 4,
     "metadata": {},
     "output_type": "execute_result"
    }
   ],
   "source": [
    "type(messg['gps']['lat1'])"
   ]
  },
  {
   "cell_type": "code",
   "execution_count": 5,
   "metadata": {},
   "outputs": [],
   "source": [
    "gps.lat1"
   ]
  },
  {
   "cell_type": "code",
   "execution_count": 3,
   "metadata": {},
   "outputs": [],
   "source": [
    "gps.long1"
   ]
  },
  {
   "cell_type": "code",
   "execution_count": 17,
   "metadata": {},
   "outputs": [
    {
     "data": {
      "text/plain": [
       "[]"
      ]
     },
     "execution_count": 17,
     "metadata": {},
     "output_type": "execute_result"
    }
   ],
   "source": [
    "gps.parcing_errors"
   ]
  }
 ],
 "metadata": {
  "kernelspec": {
   "display_name": "env",
   "language": "python",
   "name": "python3"
  },
  "language_info": {
   "codemirror_mode": {
    "name": "ipython",
    "version": 3
   },
   "file_extension": ".py",
   "mimetype": "text/x-python",
   "name": "python",
   "nbconvert_exporter": "python",
   "pygments_lexer": "ipython3",
   "version": "3.10.12"
  }
 },
 "nbformat": 4,
 "nbformat_minor": 2
}
